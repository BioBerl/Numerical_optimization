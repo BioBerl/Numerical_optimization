{
 "cells": [
  {
   "cell_type": "code",
   "execution_count": 2,
   "metadata": {},
   "outputs": [],
   "source": [
    "class david_try:\n",
    "    def __init__(self, step_len=0.1, obj_tol=1e-12):\n",
    "        self.step_len = step_len\n",
    "        self.obj_tol=obj_tol\n",
    "    def sum(self):\n",
    "        return self.step_len + self.obj_tol"
   ]
  },
  {
   "cell_type": "code",
   "execution_count": 9,
   "metadata": {},
   "outputs": [
    {
     "data": {
      "text/plain": [
       "0.10000000000100001"
      ]
     },
     "execution_count": 9,
     "metadata": {},
     "output_type": "execute_result"
    }
   ],
   "source": [
    "dude = david_try().sum()\n",
    "\n",
    "dude"
   ]
  },
  {
   "cell_type": "code",
   "execution_count": 5,
   "metadata": {},
   "outputs": [
    {
     "name": "stdout",
     "output_type": "stream",
     "text": [
      "0.10000000000100001\n"
     ]
    }
   ],
   "source": [
    "class david_try:\n",
    "    def __init__(self, step_len=0.1, obj_tol=1e-12):\n",
    "        self.step_len = step_len\n",
    "        self.obj_tol = obj_tol\n",
    "    \n",
    "    def sum(self):\n",
    "        return self.step_len + self.obj_tol\n",
    "\n",
    "\n",
    "instance = david_try()\n",
    "result = instance.sum()\n",
    "print(result)"
   ]
  },
  {
   "cell_type": "code",
   "execution_count": null,
   "metadata": {},
   "outputs": [],
   "source": [
    "import unittest\n",
    "from unconstrained_min import LineSearch\n",
    "from utils import *\n",
    "from examples import *\n",
    "\n",
    "\n",
    "\n",
    "class TestLineSearch(unittest.TestCase):\n",
    "\n",
    "    def test_q1():\n",
    "        print(\"worked!\")"
   ]
  },
  {
   "cell_type": "code",
   "execution_count": 1,
   "metadata": {},
   "outputs": [],
   "source": [
    "from unconstrained_min import *\n",
    "from utils import *\n",
    "from examples import *"
   ]
  },
  {
   "cell_type": "code",
   "execution_count": null,
   "metadata": {},
   "outputs": [],
   "source": [
    "ls = L"
   ]
  }
 ],
 "metadata": {
  "kernelspec": {
   "display_name": "Python 3",
   "language": "python",
   "name": "python3"
  },
  "language_info": {
   "codemirror_mode": {
    "name": "ipython",
    "version": 3
   },
   "file_extension": ".py",
   "mimetype": "text/x-python",
   "name": "python",
   "nbconvert_exporter": "python",
   "pygments_lexer": "ipython3",
   "version": "3.10.6"
  },
  "orig_nbformat": 4
 },
 "nbformat": 4,
 "nbformat_minor": 2
}
